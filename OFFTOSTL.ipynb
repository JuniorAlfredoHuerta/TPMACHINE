{
  "cells": [
    {
      "cell_type": "code",
      "execution_count": 9,
      "metadata": {
        "colab": {
          "base_uri": "https://localhost:8080/"
        },
        "id": "TDQ4KnIM2lyI",
        "outputId": "5994d8dd-65f2-41a3-f984-dafa3956e772"
      },
      "outputs": [
        {
          "name": "stdout",
          "output_type": "stream",
          "text": [
            "Overwriting cube.off\n"
          ]
        }
      ],
      "source": [
        "%%file cube.off\n",
        "OFF\n",
        "8 6 0\n",
        "0.0 0.0 1.0 \n",
        "1.0 0.0 1.0\n",
        "0.0 1.0 1.0\n",
        "1.0 1.0 1.0\n",
        "0.0 1.0 0.0\n",
        "1.0 1.0 0.0\n",
        "0.0 0.0 0.0\n",
        "1.0 0.0 0.0\n",
        "4 0 1 3 2\n",
        "4 2 3 5 4\n",
        "4 4 5 7 6\n",
        "4 6 7 1 0\n",
        "4 1 7 5 3\n",
        "4 0 2 4 6"
      ]
    },
    {
      "cell_type": "code",
      "execution_count": 3,
      "metadata": {
        "id": "tA4Co7lk7kr4"
      },
      "outputs": [],
      "source": [
        "import numpy as np\n",
        "import random\n",
        "import matplotlib.pyplot as plt"
      ]
    },
    {
      "cell_type": "code",
      "execution_count": null,
      "metadata": {
        "colab": {
          "base_uri": "https://localhost:8080/"
        },
        "id": "nlZjtt283EyU",
        "outputId": "69120fca-bc76-4f9d-8321-2116658546c5"
      },
      "outputs": [
        {
          "name": "stdout",
          "output_type": "stream",
          "text": [
            "si es un archivo OFF\n"
          ]
        }
      ],
      "source": [
        "with open('cube.off') as f:\n",
        "  x = f.readline()\n",
        "  if x == \"OFF\\n\":\n",
        "    print(\"si es un archivo OFF\")\n",
        "  a, b, c = [int(x) for x in f.readline().split()] # numero de vertices, caras y bordes\n",
        "  vertices = np.zeros((a,3), dtype= float) # guarda los vertices del poligono\n",
        "  stl = [] # guarda coordenadas que conforman un triangulo\n",
        "  vertexlist = [] # guarda vertices \n",
        "  facet = [] # almacena calculos de la normal\n",
        "  for i in range(a):\n",
        "    vertices[i] = f.readline().split()\n",
        "  for line in f:\n",
        "    t = ([int(x) for x in line.split()])\n",
        "    vertexlist.append(t)\n",
        "  for i in range(b):\n",
        "    ix = vertexlist[i][0]\n",
        "    ix = ix -2\n",
        "    for j in range(ix):\n",
        "      stl.append([vertexlist[i][1],vertexlist[i][j+2],vertexlist[i][j+3]])\n",
        "  for i in range(len(stl)):\n",
        "    for j in range(3):\n",
        "      p = stl[i][j]\n",
        "      stl[i][j] = vertices[p]\n",
        "  for i in range(len(stl)):\n",
        "      p1 = np.array(stl[i][0])\n",
        "      p2 = np.array(stl[i][1])\n",
        "      p3 = np.array(stl[i][2])\n",
        "      N = np.cross(p2-p1, p3-p1)\n",
        "      facet.append(N)"
      ]
    },
    {
      "cell_type": "code",
      "execution_count": null,
      "metadata": {
        "id": "y80DS_o6Jt_H"
      },
      "outputs": [],
      "source": [
        "with open('cube.stl','w') as stlscript:\n",
        "  stlscript.write('solid\\n')\n",
        "  for i in range(len(stl)):\n",
        "    stlscript.write('facet normal {0} {1} {2}\\n'.format(facet[i][0],facet[i][1],facet[i][2]) )\n",
        "    stlscript.write('outer loop\\n')\n",
        "    for j in range(3):\n",
        "        stlscript.write(\"vertex {0} {1} {2}\\n\".format(stl[i][j][0],stl[i][j][1],stl[i][j][2]))\n",
        "    stlscript.write('endloop\\n')\n",
        "    stlscript.write('endfacet\\n')\n",
        "  stlscript.write('endsolid\\n')"
      ]
    },
    {
      "cell_type": "code",
      "execution_count": 14,
      "metadata": {
        "id": "JSImWDW9ksio"
      },
      "outputs": [],
      "source": [
        "class off_2_stl:\n",
        "    def __init__(self):\n",
        "        self.stl = None\n",
        "        self.facet = None\n",
        "\n",
        "    def fit(self, filename):\n",
        "        with open(filename) as f:\n",
        "            x = f.readline()\n",
        "            if x == \"OFF\\n\":\n",
        "                print(\"Es un archivo OFF\")\n",
        "            else: \n",
        "                print(\"No es un archivo OFF\") \n",
        "                return\n",
        "            a, b, c = [int(x) for x in f.readline().split()] # numero de vertices, caras y bordes\n",
        "            vertices = np.zeros((a,3), dtype= float) # guarda los vertices del poligono\n",
        "            self.stl = [] # guarda coordenadas que conforman un triangulo\n",
        "            vertexlist = [] # guarda vertices \n",
        "            self.facet = [] # almacena calculos de la normal\n",
        "            for i in range(a):\n",
        "                vertices[i] = f.readline().split()\n",
        "            for line in f:\n",
        "                t = ([int(x) for x in line.split()])\n",
        "                vertexlist.append(t)\n",
        "            for i in range(b):\n",
        "                ix = vertexlist[i][0]\n",
        "                ix = ix -2\n",
        "                for j in range(ix):\n",
        "                    self.stl.append([vertexlist[i][1],vertexlist[i][j+2],vertexlist[i][j+3]])\n",
        "            for i in range(len(self.stl)):\n",
        "                for j in range(3):\n",
        "                    p = self.stl[i][j]\n",
        "                    self.stl[i][j] = vertices[p]\n",
        "            for i in range(len(self.stl)): # calculo normal: (p2-p1) x (p3-p1)\n",
        "                p1 = np.array(self.stl[i][0])\n",
        "                p2 = np.array(self.stl[i][1])\n",
        "                p3 = np.array(self.stl[i][2])\n",
        "                N = np.cross(p2-p1, p3-p1)\n",
        "                self.facet.append(N)\n",
        "    \n",
        "    def gen_stl_file(self, newfilename):\n",
        "        with open(str(newfilename)+'.stl','w') as stlscript:\n",
        "            stlscript.write('solid Creado por el grupo de Machine Learning\\n')\n",
        "            for i in range(len(self.stl)):\n",
        "                stlscript.write('facet normal {0} {1} {2}\\n'.format(self.facet[i][0],self.facet[i][1],self.facet[i][2]))\n",
        "                stlscript.write('outer loop\\n')\n",
        "                for j in range(3):\n",
        "                    stlscript.write(\"vertex {0} {1} {2}\\n\".format(self.stl[i][j][0],self.stl[i][j][1],self.stl[i][j][2]))\n",
        "                stlscript.write('endloop\\n')\n",
        "                stlscript.write('endfacet\\n')\n",
        "            stlscript.write('endsolid\\n')"
      ]
    },
    {
      "cell_type": "code",
      "execution_count": 15,
      "metadata": {
        "colab": {
          "base_uri": "https://localhost:8080/"
        },
        "id": "7q9yc674tVOR",
        "outputId": "2aa9cc1e-404d-4caf-a275-68c69f38807b"
      },
      "outputs": [
        {
          "name": "stdout",
          "output_type": "stream",
          "text": [
            "Es un archivo OFF\n"
          ]
        }
      ],
      "source": [
        "converter = off_2_stl()\n",
        "\n",
        "converter.fit('cube.off')\n",
        "\n",
        "converter.gen_stl_file('convcube')"
      ]
    }
  ],
  "metadata": {
    "colab": {
      "collapsed_sections": [],
      "provenance": []
    },
    "kernelspec": {
      "display_name": "Python 3.8.7 64-bit",
      "language": "python",
      "name": "python3"
    },
    "language_info": {
      "name": "python",
      "version": "3.8.7"
    },
    "vscode": {
      "interpreter": {
        "hash": "cd0338b0df120b07017d717bd7db869fbf170f43258ddd98004d1d6a646b6de8"
      }
    }
  },
  "nbformat": 4,
  "nbformat_minor": 0
}
